{
 "cells": [
  {
   "cell_type": "code",
   "execution_count": 1,
   "id": "2d311a4f-8fc7-4d6f-adad-00afcbe3b053",
   "metadata": {},
   "outputs": [
    {
     "name": "stdout",
     "output_type": "stream",
     "text": [
      "Requirement already satisfied: gspread in c:\\users\\kk\\anaconda3\\lib\\site-packages (6.2.1)\n",
      "Requirement already satisfied: gspread-dataframe in c:\\users\\kk\\anaconda3\\lib\\site-packages (4.0.0)\n",
      "Requirement already satisfied: oauth2client in c:\\users\\kk\\anaconda3\\lib\\site-packages (4.1.3)\n",
      "Requirement already satisfied: google-auth>=1.12.0 in c:\\users\\kk\\anaconda3\\lib\\site-packages (from gspread) (2.40.3)\n",
      "Requirement already satisfied: google-auth-oauthlib>=0.4.1 in c:\\users\\kk\\anaconda3\\lib\\site-packages (from gspread) (1.2.2)\n",
      "Requirement already satisfied: pandas>=0.24.0 in c:\\users\\kk\\anaconda3\\lib\\site-packages (from gspread-dataframe) (2.2.3)\n",
      "Requirement already satisfied: six>=1.12.0 in c:\\users\\kk\\anaconda3\\lib\\site-packages (from gspread-dataframe) (1.17.0)\n",
      "Requirement already satisfied: httplib2>=0.9.1 in c:\\users\\kk\\anaconda3\\lib\\site-packages (from oauth2client) (0.22.0)\n",
      "Requirement already satisfied: pyasn1>=0.1.7 in c:\\users\\kk\\anaconda3\\lib\\site-packages (from oauth2client) (0.4.8)\n",
      "Requirement already satisfied: pyasn1-modules>=0.0.5 in c:\\users\\kk\\anaconda3\\lib\\site-packages (from oauth2client) (0.2.8)\n",
      "Requirement already satisfied: rsa>=3.1.4 in c:\\users\\kk\\anaconda3\\lib\\site-packages (from oauth2client) (4.9.1)\n",
      "Requirement already satisfied: cachetools<6.0,>=2.0.0 in c:\\users\\kk\\anaconda3\\lib\\site-packages (from google-auth>=1.12.0->gspread) (5.5.1)\n",
      "Requirement already satisfied: requests-oauthlib>=0.7.0 in c:\\users\\kk\\anaconda3\\lib\\site-packages (from google-auth-oauthlib>=0.4.1->gspread) (2.0.0)\n",
      "Requirement already satisfied: pyparsing!=3.0.0,!=3.0.1,!=3.0.2,!=3.0.3,<4,>=2.4.2 in c:\\users\\kk\\anaconda3\\lib\\site-packages (from httplib2>=0.9.1->oauth2client) (3.2.0)\n",
      "Requirement already satisfied: numpy>=1.26.0 in c:\\users\\kk\\anaconda3\\lib\\site-packages (from pandas>=0.24.0->gspread-dataframe) (2.1.3)\n",
      "Requirement already satisfied: python-dateutil>=2.8.2 in c:\\users\\kk\\anaconda3\\lib\\site-packages (from pandas>=0.24.0->gspread-dataframe) (2.9.0.post0)\n",
      "Requirement already satisfied: pytz>=2020.1 in c:\\users\\kk\\anaconda3\\lib\\site-packages (from pandas>=0.24.0->gspread-dataframe) (2025.2)\n",
      "Requirement already satisfied: tzdata>=2022.7 in c:\\users\\kk\\anaconda3\\lib\\site-packages (from pandas>=0.24.0->gspread-dataframe) (2025.2)\n",
      "Requirement already satisfied: oauthlib>=3.0.0 in c:\\users\\kk\\anaconda3\\lib\\site-packages (from requests-oauthlib>=0.7.0->google-auth-oauthlib>=0.4.1->gspread) (3.3.1)\n",
      "Requirement already satisfied: requests>=2.0.0 in c:\\users\\kk\\anaconda3\\lib\\site-packages (from requests-oauthlib>=0.7.0->google-auth-oauthlib>=0.4.1->gspread) (2.32.3)\n",
      "Requirement already satisfied: charset-normalizer<4,>=2 in c:\\users\\kk\\anaconda3\\lib\\site-packages (from requests>=2.0.0->requests-oauthlib>=0.7.0->google-auth-oauthlib>=0.4.1->gspread) (3.3.2)\n",
      "Requirement already satisfied: idna<4,>=2.5 in c:\\users\\kk\\anaconda3\\lib\\site-packages (from requests>=2.0.0->requests-oauthlib>=0.7.0->google-auth-oauthlib>=0.4.1->gspread) (3.7)\n",
      "Requirement already satisfied: urllib3<3,>=1.21.1 in c:\\users\\kk\\anaconda3\\lib\\site-packages (from requests>=2.0.0->requests-oauthlib>=0.7.0->google-auth-oauthlib>=0.4.1->gspread) (2.5.0)\n",
      "Requirement already satisfied: certifi>=2017.4.17 in c:\\users\\kk\\anaconda3\\lib\\site-packages (from requests>=2.0.0->requests-oauthlib>=0.7.0->google-auth-oauthlib>=0.4.1->gspread) (2025.6.15)\n",
      "Note: you may need to restart the kernel to use updated packages.\n"
     ]
    }
   ],
   "source": [
    "pip install gspread gspread-dataframe oauth2client\n"
   ]
  },
  {
   "cell_type": "code",
   "execution_count": 4,
   "id": "c926a797-71ca-48dd-bc18-117cc9a3a960",
   "metadata": {},
   "outputs": [
    {
     "name": "stdout",
     "output_type": "stream",
     "text": [
      "Requirement already satisfied: selenium in c:\\users\\kk\\anaconda3\\lib\\site-packages (4.34.2)\n",
      "Requirement already satisfied: webdriver-manager in c:\\users\\kk\\anaconda3\\lib\\site-packages (4.0.2)\n",
      "Requirement already satisfied: pandas in c:\\users\\kk\\anaconda3\\lib\\site-packages (2.2.3)\n",
      "Requirement already satisfied: gspread in c:\\users\\kk\\anaconda3\\lib\\site-packages (6.2.1)\n",
      "Requirement already satisfied: gspread-dataframe in c:\\users\\kk\\anaconda3\\lib\\site-packages (4.0.0)\n",
      "Requirement already satisfied: oauth2client in c:\\users\\kk\\anaconda3\\lib\\site-packages (4.1.3)\n",
      "Requirement already satisfied: urllib3~=2.5.0 in c:\\users\\kk\\anaconda3\\lib\\site-packages (from urllib3[socks]~=2.5.0->selenium) (2.5.0)\n",
      "Requirement already satisfied: trio~=0.30.0 in c:\\users\\kk\\anaconda3\\lib\\site-packages (from selenium) (0.30.0)\n",
      "Requirement already satisfied: trio-websocket~=0.12.2 in c:\\users\\kk\\anaconda3\\lib\\site-packages (from selenium) (0.12.2)\n",
      "Requirement already satisfied: certifi>=2025.6.15 in c:\\users\\kk\\anaconda3\\lib\\site-packages (from selenium) (2025.6.15)\n",
      "Requirement already satisfied: typing_extensions~=4.14.0 in c:\\users\\kk\\anaconda3\\lib\\site-packages (from selenium) (4.14.1)\n",
      "Requirement already satisfied: websocket-client~=1.8.0 in c:\\users\\kk\\anaconda3\\lib\\site-packages (from selenium) (1.8.0)\n",
      "Requirement already satisfied: attrs>=23.2.0 in c:\\users\\kk\\anaconda3\\lib\\site-packages (from trio~=0.30.0->selenium) (24.3.0)\n",
      "Requirement already satisfied: sortedcontainers in c:\\users\\kk\\anaconda3\\lib\\site-packages (from trio~=0.30.0->selenium) (2.4.0)\n",
      "Requirement already satisfied: idna in c:\\users\\kk\\anaconda3\\lib\\site-packages (from trio~=0.30.0->selenium) (3.7)\n",
      "Requirement already satisfied: outcome in c:\\users\\kk\\anaconda3\\lib\\site-packages (from trio~=0.30.0->selenium) (1.3.0.post0)\n",
      "Requirement already satisfied: sniffio>=1.3.0 in c:\\users\\kk\\anaconda3\\lib\\site-packages (from trio~=0.30.0->selenium) (1.3.0)\n",
      "Requirement already satisfied: cffi>=1.14 in c:\\users\\kk\\anaconda3\\lib\\site-packages (from trio~=0.30.0->selenium) (1.17.1)\n",
      "Requirement already satisfied: wsproto>=0.14 in c:\\users\\kk\\anaconda3\\lib\\site-packages (from trio-websocket~=0.12.2->selenium) (1.2.0)\n",
      "Requirement already satisfied: pysocks!=1.5.7,<2.0,>=1.5.6 in c:\\users\\kk\\anaconda3\\lib\\site-packages (from urllib3[socks]~=2.5.0->selenium) (1.7.1)\n",
      "Requirement already satisfied: requests in c:\\users\\kk\\anaconda3\\lib\\site-packages (from webdriver-manager) (2.32.3)\n",
      "Requirement already satisfied: python-dotenv in c:\\users\\kk\\anaconda3\\lib\\site-packages (from webdriver-manager) (1.1.0)\n",
      "Requirement already satisfied: packaging in c:\\users\\kk\\anaconda3\\lib\\site-packages (from webdriver-manager) (24.2)\n",
      "Requirement already satisfied: numpy>=1.26.0 in c:\\users\\kk\\anaconda3\\lib\\site-packages (from pandas) (2.1.3)\n",
      "Requirement already satisfied: python-dateutil>=2.8.2 in c:\\users\\kk\\anaconda3\\lib\\site-packages (from pandas) (2.9.0.post0)\n",
      "Requirement already satisfied: pytz>=2020.1 in c:\\users\\kk\\anaconda3\\lib\\site-packages (from pandas) (2025.2)\n",
      "Requirement already satisfied: tzdata>=2022.7 in c:\\users\\kk\\anaconda3\\lib\\site-packages (from pandas) (2025.2)\n",
      "Requirement already satisfied: google-auth>=1.12.0 in c:\\users\\kk\\anaconda3\\lib\\site-packages (from gspread) (2.40.3)\n",
      "Requirement already satisfied: google-auth-oauthlib>=0.4.1 in c:\\users\\kk\\anaconda3\\lib\\site-packages (from gspread) (1.2.2)\n",
      "Requirement already satisfied: six>=1.12.0 in c:\\users\\kk\\anaconda3\\lib\\site-packages (from gspread-dataframe) (1.17.0)\n",
      "Requirement already satisfied: httplib2>=0.9.1 in c:\\users\\kk\\anaconda3\\lib\\site-packages (from oauth2client) (0.22.0)\n",
      "Requirement already satisfied: pyasn1>=0.1.7 in c:\\users\\kk\\anaconda3\\lib\\site-packages (from oauth2client) (0.4.8)\n",
      "Requirement already satisfied: pyasn1-modules>=0.0.5 in c:\\users\\kk\\anaconda3\\lib\\site-packages (from oauth2client) (0.2.8)\n",
      "Requirement already satisfied: rsa>=3.1.4 in c:\\users\\kk\\anaconda3\\lib\\site-packages (from oauth2client) (4.9.1)\n",
      "Requirement already satisfied: pycparser in c:\\users\\kk\\anaconda3\\lib\\site-packages (from cffi>=1.14->trio~=0.30.0->selenium) (2.21)\n",
      "Requirement already satisfied: cachetools<6.0,>=2.0.0 in c:\\users\\kk\\anaconda3\\lib\\site-packages (from google-auth>=1.12.0->gspread) (5.5.1)\n",
      "Requirement already satisfied: requests-oauthlib>=0.7.0 in c:\\users\\kk\\anaconda3\\lib\\site-packages (from google-auth-oauthlib>=0.4.1->gspread) (2.0.0)\n",
      "Requirement already satisfied: pyparsing!=3.0.0,!=3.0.1,!=3.0.2,!=3.0.3,<4,>=2.4.2 in c:\\users\\kk\\anaconda3\\lib\\site-packages (from httplib2>=0.9.1->oauth2client) (3.2.0)\n",
      "Requirement already satisfied: oauthlib>=3.0.0 in c:\\users\\kk\\anaconda3\\lib\\site-packages (from requests-oauthlib>=0.7.0->google-auth-oauthlib>=0.4.1->gspread) (3.3.1)\n",
      "Requirement already satisfied: charset-normalizer<4,>=2 in c:\\users\\kk\\anaconda3\\lib\\site-packages (from requests->webdriver-manager) (3.3.2)\n",
      "Requirement already satisfied: h11<1,>=0.9.0 in c:\\users\\kk\\anaconda3\\lib\\site-packages (from wsproto>=0.14->trio-websocket~=0.12.2->selenium) (0.16.0)\n",
      "Note: you may need to restart the kernel to use updated packages.\n"
     ]
    }
   ],
   "source": [
    "pip install selenium webdriver-manager pandas gspread gspread-dataframe oauth2client\n"
   ]
  },
  {
   "cell_type": "code",
   "execution_count": 5,
   "id": "8b8acdfc-02ad-43c9-ac24-2a0e2a76b429",
   "metadata": {},
   "outputs": [
    {
     "name": "stdout",
     "output_type": "stream",
     "text": [
      "[+] Fetching Test from: https://www.cricmetric.com/sage/?q=Virat%20Kohli%20performance%20year%20wise\n"
     ]
    },
    {
     "name": "stderr",
     "output_type": "stream",
     "text": [
      "C:\\Users\\kk\\AppData\\Local\\Temp\\ipykernel_9436\\1314400564.py:52: FutureWarning: Passing literal html to 'read_html' is deprecated and will be removed in a future version. To read from a literal string, wrap it in a 'StringIO' object.\n",
      "  tables = pd.read_html(driver.page_source)\n"
     ]
    },
    {
     "name": "stdout",
     "output_type": "stream",
     "text": [
      "    - Got 16 rows for Test.\n",
      "[+] Fetching ODI from: https://www.cricmetric.com/sage/?q=Virat%20Kohli%20ODI%20performance%20year%20wise\n"
     ]
    },
    {
     "name": "stderr",
     "output_type": "stream",
     "text": [
      "C:\\Users\\kk\\AppData\\Local\\Temp\\ipykernel_9436\\1314400564.py:52: FutureWarning: Passing literal html to 'read_html' is deprecated and will be removed in a future version. To read from a literal string, wrap it in a 'StringIO' object.\n",
      "  tables = pd.read_html(driver.page_source)\n"
     ]
    },
    {
     "name": "stdout",
     "output_type": "stream",
     "text": [
      "    - Got 19 rows for ODI.\n",
      "[+] Fetching T20I from: https://www.cricmetric.com/sage/?q=Virat%20Kohli%20T20I%20performance%20year%20wise\n"
     ]
    },
    {
     "name": "stderr",
     "output_type": "stream",
     "text": [
      "C:\\Users\\kk\\AppData\\Local\\Temp\\ipykernel_9436\\1314400564.py:52: FutureWarning: Passing literal html to 'read_html' is deprecated and will be removed in a future version. To read from a literal string, wrap it in a 'StringIO' object.\n",
      "  tables = pd.read_html(driver.page_source)\n"
     ]
    },
    {
     "name": "stdout",
     "output_type": "stream",
     "text": [
      "    - Got 15 rows for T20I.\n",
      "[+] Fetching IPL from: https://www.cricmetric.com/sage/?q=Virat%20Kohli%20IPL%20performance%20year%20wise\n"
     ]
    },
    {
     "name": "stderr",
     "output_type": "stream",
     "text": [
      "C:\\Users\\kk\\AppData\\Local\\Temp\\ipykernel_9436\\1314400564.py:52: FutureWarning: Passing literal html to 'read_html' is deprecated and will be removed in a future version. To read from a literal string, wrap it in a 'StringIO' object.\n",
      "  tables = pd.read_html(driver.page_source)\n"
     ]
    },
    {
     "name": "stdout",
     "output_type": "stream",
     "text": [
      "    - Got 19 rows for IPL.\n",
      "[+] Combined CSV saved locally: Virat_Kohli_All_Formats_Performance.csv\n",
      "[+] Data pushed to Google Sheet: https://docs.google.com/spreadsheets/d/1dtdcGA53rDzNFDfRMsD9_PWcE-lDcwrzVD5Hx8GR8dM/edit\n"
     ]
    }
   ],
   "source": [
    "# combined_scrape_to_gsheets.py\n",
    "import time\n",
    "import pandas as pd\n",
    "from selenium import webdriver\n",
    "from selenium.webdriver.chrome.service import Service\n",
    "from selenium.webdriver.chrome.options import Options\n",
    "from webdriver_manager.chrome import ChromeDriverManager\n",
    "\n",
    "import gspread\n",
    "from gspread_dataframe import set_with_dataframe\n",
    "from oauth2client.service_account import ServiceAccountCredentials\n",
    "\n",
    "# ----------------------------\n",
    "# Configuration - edit if needed\n",
    "# ----------------------------\n",
    "SERVICE_ACCOUNT_JSON = \"promising-cairn-468110-m0-d9e0ad1907f7.json\"  # your downloaded JSON file\n",
    "GOOGLE_SHEET_URL = \"https://docs.google.com/spreadsheets/d/1dtdcGA53rDzNFDfRMsD9_PWcE-lDcwrzVD5Hx8GR8dM/edit\"\n",
    "HEADLESS = True\n",
    "JS_WAIT_SECONDS = 5  # increase if your network is slow / site loads slowly\n",
    "\n",
    "# Cricmetric URLs (change player name or format terms if you want another player)\n",
    "PLAYER_NAME_ENCODED = \"Virat%20Kohli\"  # URL-encoded player name\n",
    "urls = {\n",
    "    \"Test\": f\"https://www.cricmetric.com/sage/?q={PLAYER_NAME_ENCODED}%20performance%20year%20wise\",\n",
    "    \"ODI\":  f\"https://www.cricmetric.com/sage/?q={PLAYER_NAME_ENCODED}%20ODI%20performance%20year%20wise\",\n",
    "    \"T20I\": f\"https://www.cricmetric.com/sage/?q={PLAYER_NAME_ENCODED}%20T20I%20performance%20year%20wise\",\n",
    "    \"IPL\":  f\"https://www.cricmetric.com/sage/?q={PLAYER_NAME_ENCODED}%20IPL%20performance%20year%20wise\",\n",
    "}\n",
    "\n",
    "# ----------------------------\n",
    "# Helper: start Selenium WebDriver\n",
    "# ----------------------------\n",
    "def start_driver(headless=True):\n",
    "    options = Options()\n",
    "    if headless:\n",
    "        options.add_argument(\"--headless=new\")  # newer headless; if issues try \"--headless\"\n",
    "        options.add_argument(\"--disable-gpu\")\n",
    "    options.add_argument(\"--no-sandbox\")\n",
    "    options.add_argument(\"--disable-dev-shm-usage\")\n",
    "    service = Service(ChromeDriverManager().install())\n",
    "    driver = webdriver.Chrome(service=service, options=options)\n",
    "    return driver\n",
    "\n",
    "# ----------------------------\n",
    "# Scrape function\n",
    "# ----------------------------\n",
    "def scrape_cricmetric_tables(driver, url, wait_seconds=JS_WAIT_SECONDS):\n",
    "    driver.get(url)\n",
    "    time.sleep(wait_seconds)  # allow JS to load content\n",
    "    # pandas can parse tables from the fully rendered page source\n",
    "    try:\n",
    "        tables = pd.read_html(driver.page_source)\n",
    "    except ValueError:\n",
    "        # pd.read_html raises ValueError if no tables found\n",
    "        tables = []\n",
    "    return tables\n",
    "\n",
    "# ----------------------------\n",
    "# Main flow: scrape all formats and combine\n",
    "# ----------------------------\n",
    "def main():\n",
    "    driver = start_driver(HEADLESS)\n",
    "    all_dfs = []\n",
    "\n",
    "    try:\n",
    "        for fmt, url in urls.items():\n",
    "            print(f\"[+] Fetching {fmt} from: {url}\")\n",
    "            tables = scrape_cricmetric_tables(driver, url)\n",
    "            if not tables:\n",
    "                print(f\"    - No table found for {fmt}.\")\n",
    "                continue\n",
    "\n",
    "            # assume first table is the relevant one (inspect if site structure changes)\n",
    "            df = tables[0].copy()\n",
    "            df[\"Format\"] = fmt\n",
    "            # optional: add source info or scrape timestamp\n",
    "            df[\"Scraped_At\"] = pd.Timestamp.now(tz=\"UTC\")\n",
    "            all_dfs.append(df)\n",
    "            print(f\"    - Got {len(df)} rows for {fmt}.\")\n",
    "\n",
    "    finally:\n",
    "        driver.quit()\n",
    "\n",
    "    if not all_dfs:\n",
    "        print(\"No data was scraped for any format. Exiting.\")\n",
    "        return\n",
    "\n",
    "    combined_df = pd.concat(all_dfs, ignore_index=True)\n",
    "    # Optional: reorder columns so Format, Scraped_At appear first\n",
    "    cols = [c for c in combined_df.columns if c not in (\"Format\", \"Scraped_At\")]\n",
    "    combined_df = combined_df[[\"Format\", \"Scraped_At\"] + cols]\n",
    "\n",
    "    # Save a local copy (optional)\n",
    "    combined_df.to_csv(\"Virat_Kohli_All_Formats_Performance.csv\", index=False)\n",
    "    print(\"[+] Combined CSV saved locally: Virat_Kohli_All_Formats_Performance.csv\")\n",
    "\n",
    "    # ----------------------------\n",
    "    # Push to Google Sheets\n",
    "    # ----------------------------\n",
    "    # Scopes: Sheets + Drive (gspread uses Drive for file discovery)\n",
    "    scope = [\"https://spreadsheets.google.com/feeds\",\n",
    "             \"https://www.googleapis.com/auth/drive\"]\n",
    "\n",
    "    creds = ServiceAccountCredentials.from_json_keyfile_name(SERVICE_ACCOUNT_JSON, scope)\n",
    "    client = gspread.authorize(creds)\n",
    "\n",
    "    # open by URL to avoid name mismatches\n",
    "    sh = client.open_by_url(GOOGLE_SHEET_URL)\n",
    "    worksheet = sh.sheet1  # first tab\n",
    "\n",
    "    # clear existing worksheet contents (optional)\n",
    "    worksheet.clear()\n",
    "\n",
    "    # write dataframe to sheet\n",
    "    set_with_dataframe(worksheet, combined_df)\n",
    "    print(f\"[+] Data pushed to Google Sheet: {GOOGLE_SHEET_URL}\")\n",
    "\n",
    "if __name__ == \"__main__\":\n",
    "    main()\n"
   ]
  },
  {
   "cell_type": "code",
   "execution_count": null,
   "id": "7e24ff1a-22b8-4053-a50e-ac4daf1eae5a",
   "metadata": {},
   "outputs": [],
   "source": []
  }
 ],
 "metadata": {
  "kernelspec": {
   "display_name": "Python [conda env:base] *",
   "language": "python",
   "name": "conda-base-py"
  },
  "language_info": {
   "codemirror_mode": {
    "name": "ipython",
    "version": 3
   },
   "file_extension": ".py",
   "mimetype": "text/x-python",
   "name": "python",
   "nbconvert_exporter": "python",
   "pygments_lexer": "ipython3",
   "version": "3.13.5"
  }
 },
 "nbformat": 4,
 "nbformat_minor": 5
}
